{
  "nbformat": 4,
  "nbformat_minor": 0,
  "metadata": {
    "colab": {
      "name": "Part 2 of URL Category Classifier - Single Input Edition.ipynb",
      "provenance": [],
      "collapsed_sections": [],
      "toc_visible": true,
      "include_colab_link": true
    },
    "kernelspec": {
      "name": "python3",
      "display_name": "Python 3"
    },
    "accelerator": "GPU"
  },
  "cells": [
    {
      "cell_type": "markdown",
      "metadata": {
        "id": "view-in-github",
        "colab_type": "text"
      },
      "source": [
        "<a href=\"https://colab.research.google.com/github/bala-codes/URL-CATEGORY-CLASSIFIER-USING-MACHINE-LEARNING-NLP/blob/master/codes/2.%20URL%20Category%20Classifier%20Single%20Input%20Prediction.ipynb\" target=\"_parent\"><img src=\"https://colab.research.google.com/assets/colab-badge.svg\" alt=\"Open In Colab\"/></a>"
      ]
    },
    {
      "cell_type": "code",
      "metadata": {
        "id": "iArv-2OPT9Ft",
        "colab_type": "code",
        "colab": {
          "base_uri": "https://localhost:8080/",
          "height": 125
        },
        "outputId": "3f08fc04-d1bd-4400-aebb-bcfb05cc5d60"
      },
      "source": [
        "# IF YOU ARE USING GOOGLE COLABORATORY AND IF YOUR DATA IS STORED IN GOOGLE DRIVE, THEN RUN THIS CODE OTHERWISE DON'T EXECUTE\n",
        "\n",
        "from google.colab import drive\n",
        "drive.mount('/content/gdrive')"
      ],
      "execution_count": null,
      "outputs": [
        {
          "output_type": "stream",
          "text": [
            "Go to this URL in a browser: https://accounts.google.com/o/oauth2/auth?client_id=947318989803-6bn6qk8qdgf4n4g3pfee6491hc0brc4i.apps.googleusercontent.com&redirect_uri=urn%3Aietf%3Awg%3Aoauth%3A2.0%3Aoob&scope=email%20https%3A%2F%2Fwww.googleapis.com%2Fauth%2Fdocs.test%20https%3A%2F%2Fwww.googleapis.com%2Fauth%2Fdrive%20https%3A%2F%2Fwww.googleapis.com%2Fauth%2Fdrive.photos.readonly%20https%3A%2F%2Fwww.googleapis.com%2Fauth%2Fpeopleapi.readonly&response_type=code\n",
            "\n",
            "Enter your authorization code:\n",
            "··········\n",
            "Mounted at /content/gdrive\n"
          ],
          "name": "stdout"
        }
      ]
    },
    {
      "cell_type": "code",
      "metadata": {
        "id": "a7DFP7E9H8FX",
        "colab_type": "code",
        "colab": {}
      },
      "source": [
        "import pickle\n",
        "import numpy as np\n",
        "import matplotlib.pyplot as plt\n",
        "plt.style.use('ggplot')\n"
      ],
      "execution_count": null,
      "outputs": []
    },
    {
      "cell_type": "code",
      "metadata": {
        "id": "X5meDk8HUH_b",
        "colab_type": "code",
        "colab": {
          "base_uri": "https://localhost:8080/",
          "height": 34
        },
        "outputId": "ba622d68-7ca8-409d-a46c-2639f79980a4"
      },
      "source": [
        "with open(\"/content/gdrive/My Drive/Machine Learning Projects/URL CATEGORY CLASSIFIER PROJECT/Pretrained Models/nb_classifier.pkl\", \"rb\") as fin:\n",
        "  vectorizer, nb_classifier = pickle.load(fin)\n",
        " \n",
        "with open(\"/content/gdrive/My Drive/Machine Learning Projects/URL CATEGORY CLASSIFIER PROJECT/Pretrained Models/svc_classifier.pkl\", \"rb\") as fin:\n",
        "  vectorizer, svc_classifier = pickle.load(fin)\n",
        " \n",
        "with open(\"/content/gdrive/My Drive/Machine Learning Projects/URL CATEGORY CLASSIFIER PROJECT/Pretrained Models/pac_classifier.pkl\", \"rb\") as fin:\n",
        "  vectorizer, pac_classifier = pickle.load(fin)\n",
        "  \n",
        "with open(\"/content/gdrive/My Drive/Machine Learning Projects/URL CATEGORY CLASSIFIER PROJECT/Pretrained Models/logreg_classifier.pkl\", \"rb\") as fin:\n",
        "  vectorizer, logreg_classifier = pickle.load(fin)\n",
        "\n",
        "with open(\"/content/gdrive/My Drive/Machine Learning Projects/URL CATEGORY CLASSIFIER PROJECT/Pretrained Models/bb_classifier.pkl\", \"rb\") as fin:\n",
        "  vectorizer, bb_classifier = pickle.load(fin)\n",
        "  \n",
        "print(\"SUCCESS ALL MODELS LOADED\")"
      ],
      "execution_count": null,
      "outputs": [
        {
          "output_type": "stream",
          "text": [
            "SUCCESS ALL MODELS LOADED\n"
          ],
          "name": "stdout"
        }
      ]
    },
    {
      "cell_type": "code",
      "metadata": {
        "id": "C-klp1dYF4xQ",
        "colab_type": "code",
        "colab": {}
      },
      "source": [
        "# Required Functions to predict the News\n",
        "\n",
        "output = int()\n",
        "def prediction(text):\n",
        "  test = vectorizer.transform(text)\n",
        "  graph,output = ensemble(test)\n",
        "  class_labels = ['Arts' ,'Business', 'Computers', 'Games','Health', 'Home', 'Kids', 'News', 'Recreation', 'Reference', 'Science']\n",
        "  value = class_labels[output[0]]\n",
        "\n",
        "  j = [graph[0][0],graph[0][1],graph[0][2],graph[0][3],graph[0][4],graph[0][5],graph[0][6],graph[0][7],graph[0][8],graph[0][9],graph[0][10]]\n",
        "  y_pos = np.arange(len(class_labels))\n",
        "  plt.figure(figsize=(10,5))\n",
        "  plt.barh(y_pos,j,color='blue',alpha=0.5)\n",
        "  plt.yticks(y_pos,class_labels)\n",
        "  print()\n",
        "  plt.title(\"PREDICTION FOR URL's\")\n",
        "  plt.xlabel('Percentage')\n",
        "  plt.ylabel('Labels')\n",
        "  plt.show()\n",
        "  print()\n",
        "  start = \"\\033[1m\"\n",
        "  end = \"\\033[0;0m\"\n",
        "  print('THE GIVEN NEWS URL IS RELATED TO ' + start + str(value) + end)\n",
        "\n",
        "def ensemble(x):\n",
        "  pred1 = logreg_classifier.predict_proba(x)\n",
        "  pred2 = nb_classifier.predict_proba(x)\n",
        "  pred3 = svc_classifier._predict_proba_lr(x)\n",
        "  pred4 = pac_classifier._predict_proba_lr(x)\n",
        "  pred5 = bb_classifier.predict_proba(x)\n",
        "\n",
        "  test_pred_prob = np.mean([pred1, pred2, pred3, pred4, pred5], axis=0)\n",
        "  pred = np.argmax(test_pred_prob, axis=1)\n",
        "  print(test_pred_prob)\n",
        "  return test_pred_prob,pred\n"
      ],
      "execution_count": null,
      "outputs": []
    },
    {
      "cell_type": "markdown",
      "metadata": {
        "id": "2ro5Wj8KB-X_",
        "colab_type": "text"
      },
      "source": [
        "# GIVE YOUR INPUT HERE"
      ]
    },
    {
      "cell_type": "code",
      "metadata": {
        "id": "TFyanqQxVZTW",
        "colab_type": "code",
        "colab": {
          "base_uri": "https://localhost:8080/",
          "height": 461
        },
        "outputId": "a80614aa-04ef-4743-e3e8-70f902924878"
      },
      "source": [
        "#String input\n",
        "x = input(\"ENTER THE URL HERE : \") \n",
        "x=[x,]\n",
        "prediction(x)"
      ],
      "execution_count": null,
      "outputs": [
        {
          "output_type": "stream",
          "text": [
            "ENTER THE URL HERE : https://www.programcreek.com/python/example/102353/matplotlib.pyplot.barh\n",
            "[[0.01111627 0.17681363 0.60106975 0.02022118 0.02687499 0.02540401\n",
            "  0.0225323  0.03296699 0.01918852 0.04247853 0.02133383]]\n",
            "\n"
          ],
          "name": "stdout"
        },
        {
          "output_type": "display_data",
          "data": {
            "image/png": "[encoded data removed]",
            "text/plain": [
              "<Figure size 720x360 with 1 Axes>"
            ]
          },
          "metadata": {
            "tags": []
          }
        },
        {
          "output_type": "stream",
          "text": [
            "\n",
            "THE GIVEN NEWS URL IS RELATED TO \u001b[1mComputers\u001b[0;0m\n"
          ],
          "name": "stdout"
        }
      ]
    },
    {
      "cell_type": "code",
      "metadata": {
        "id": "Rce4khL99NnA",
        "colab_type": "code",
        "colab": {}
      },
      "source": [
        ""
      ],
      "execution_count": null,
      "outputs": []
    }
  ]
}